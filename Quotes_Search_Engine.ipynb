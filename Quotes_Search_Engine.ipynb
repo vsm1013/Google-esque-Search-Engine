{
 "cells": [
  {
   "cell_type": "code",
   "execution_count": 20,
   "metadata": {
    "collapsed": true,
    "deletable": true,
    "editable": true
   },
   "outputs": [],
   "source": [
    "#3.a\n",
    "fp = open('quotes.txt','r')\n",
    "linelist = fp.readlines()\n",
    "\n",
    "# For loop to read lines alternatively and form a string to read from that\n",
    "i = 0\n",
    "full_quotes=[]\n",
    "for i in range((len(linelist))/2):\n",
    "    quote = linelist[2*i].strip('\\n')\n",
    "    auth = linelist[2*i+1].strip('\\n')\n",
    "    final_quote = quote+\"- \"+auth\n",
    "    full_quotes.append(final_quote)\n",
    "\n",
    "import re\n",
    "# fp.close"
   ]
  },
  {
   "cell_type": "code",
   "execution_count": 21,
   "metadata": {
    "collapsed": true,
    "deletable": true,
    "editable": true
   },
   "outputs": [],
   "source": [
    "#3.b\n",
    "def word_split(l):\n",
    "    result = re.sub('[^\\w\\s]','',l.lower())\n",
    "    k = result.split()\n",
    "    return k\n",
    "\n",
    "# word_split(l[0])"
   ]
  },
  {
   "cell_type": "code",
   "execution_count": 22,
   "metadata": {
    "collapsed": true,
    "deletable": true,
    "editable": true
   },
   "outputs": [],
   "source": [
    "#3.c\n",
    "postings_list = {}\n",
    "for i in range(len(full_quotes)):\n",
    "    word_list = word_split(full_quotes[i])\n",
    "    dict1 = {}\n",
    "    for w in word_list:\n",
    "        dict1[w] = word_list.count(w)\n",
    "    \n",
    "    postings_list[full_quotes[i]] = dict1"
   ]
  },
  {
   "cell_type": "code",
   "execution_count": 23,
   "metadata": {
    "collapsed": true
   },
   "outputs": [],
   "source": [
    "#3.d\n",
    "rp_dict = {}\n",
    "for i in full_quotes:\n",
    "    word_list = word_split(i)\n",
    "    for j in word_list:\n",
    "        if j in rp_dict:\n",
    "            if i in rp_dict[j]:\n",
    "                rp_dict[j][i] +=1\n",
    "            else:\n",
    "                rp_dict[j][i] = 1\n",
    "        else: \n",
    "            rp_dict[j] = {}\n",
    "            rp_dict[j][i] = 1"
   ]
  },
  {
   "cell_type": "code",
   "execution_count": 24,
   "metadata": {
    "collapsed": true,
    "deletable": true,
    "editable": true
   },
   "outputs": [],
   "source": [
    "#3.e\n",
    "import math\n",
    "def cal_TF_IDF(w,k=list()):\n",
    "    v1 = postings_list[k][w]\n",
    "    v2 = max(postings_list[k].values())\n",
    "    TF = float(v1)/v2\n",
    "    \n",
    "# IDF\n",
    "    quo_occ = len(rp_dict[w])\n",
    "    IDF = math.log(len(full_quotes)/quo_occ)\n",
    "    TF_IDF = TF*IDF\n",
    "    return TF_IDF"
   ]
  },
  {
   "cell_type": "code",
   "execution_count": 25,
   "metadata": {
    "collapsed": false
   },
   "outputs": [
    {
     "data": {
      "text/plain": [
       "3.3933584753025405"
      ]
     },
     "execution_count": 25,
     "metadata": {},
     "output_type": "execute_result"
    }
   ],
   "source": [
    "cal_TF_IDF(\"entertainer\", full_quotes[16])\n"
   ]
  },
  {
   "cell_type": "code",
   "execution_count": 26,
   "metadata": {
    "collapsed": false
   },
   "outputs": [
    {
     "data": {
      "text/plain": [
       "'An actor is at most a poet and at least an entertainer.- Marlon Brando'"
      ]
     },
     "execution_count": 26,
     "metadata": {},
     "output_type": "execute_result"
    }
   ],
   "source": [
    "full_quotes[16]"
   ]
  },
  {
   "cell_type": "code",
   "execution_count": 27,
   "metadata": {
    "collapsed": false,
    "deletable": true,
    "editable": true,
    "scrolled": true
   },
   "outputs": [
    {
     "data": {
      "text/plain": [
       "{'An actor is at most a poet and at least an entertainer.- Marlon Brando': 1.5222612188617115,\n",
       " 'Back in the old days, most families were close-knit. Grown children and their parents continued to live together, under the same roof, sometimes in the same small, crowded room, year in and year out, until they died, frequently by strangulation.- Dave Barry': 1.0148408125744743,\n",
       " 'Children are innocent and love justice, while most adults are wicked and prefer mercy.- GK Chesterton': 1.5222612188617115,\n",
       " 'Dying is the most embarrassing thing that can ever happen to you, because someone`s got to take care of all your details.- Andy Warhol': 1.5222612188617115,\n",
       " 'Egalitarians create the most dangerous inequality of all -- inequality of power. Allowing politicians to determine what all other human beings will be allowed to earn is one of the most reckless gambles imaginable. Like the income tax, it may start off being applied only to the rich but it will inevitably reach us all.- Thomas Sowell': 1.5222612188617115,\n",
       " 'Fatherhood is pretending the present you love most is soap on-a-rope.- Bill Cosby': 1.5222612188617115,\n",
       " 'For a time, at least, I was the most famous person in the entire world.- Jesse Owens': 1.5222612188617115,\n",
       " 'He therefore is the truest friend to the liberty of this country who tries most to promote its virtue, and who, so far as his power and influence extend, will not suffer a man to be chosen into any office of power and trust who is not a wise and virtuous man.- Samuel Adams': 0.7611306094308558,\n",
       " 'I arrive at the end of this review having done my duty as a critic. I have described the movie accurately and you have a good idea what you are in for if you go to see it. Most of you will not. I cannot argue with you. Some of you will--the brave and the curious. You embody the spirit of the man who first wondered what it would taste like to eat an oyster.- Roger Ebert': 0.43493177681763184,\n",
       " 'I like television. I still believe that television is the most powerful form of communication on Earth -- I just hate what is being done with it.- Alton Brown': 1.0148408125744743,\n",
       " 'I think, at a child`s birth, if a mother could ask a fairy godmother to endow it with the most useful gift, that gift should be curiosity.- Eleanor Roosevelt': 1.0148408125744743,\n",
       " 'I`m a middle age white guy, which means I`m constantly reminded that my particular group is responsible for the oppression of every known minority PLUS most wars PLUS government corruption PLUS pollution of the environment, not to mention that it was middle-age white guys who killed Bambi`s mom.- Dave Barry': 1.0148408125744743,\n",
       " 'If all our misfortunes were laid in one common heap, whence everyone must take an equal portion, most people would be content to take their own and depart.- Socrates': 1.5222612188617115,\n",
       " 'If you could kick the person in the pants responsible for most of your trouble, you wouldn`t sit for a month.- Theodore Roosevelt': 1.5222612188617115,\n",
       " 'It is most unwise for people in love to marry.- George Bernard Shaw': 3.044522437723423,\n",
       " 'Let us not forget that the cultivation of the earth is the most important labor of man. When tillage begins, other arts will follow. The farmers, therefore, are the founders of civilization.- Daniel Webster': 0.6089044875446846,\n",
       " 'Life`s most persistent and urgent question is, `What are you doing for others?`- Martin Luther King Jr.': 3.044522437723423,\n",
       " 'Man was made for action, and to promote by the exertion of his faculties such changes in the external circumstances both of himself and others, as may seem most favourable to the happiness of all.- Adam Smith': 1.0148408125744743,\n",
       " 'Most football teams are temperamental. That`s 90% temper and 10% mental.- Doug Plank': 3.044522437723423,\n",
       " 'Most modern freedom is at root fear. It is not so much that we are too bold to endure rules; it is rather that we are too timid to endure responsibilities.- GK Chesterton': 1.0148408125744743,\n",
       " 'My most brilliant achievement was my ability to be able to persuade my wife to marry me.- Winston Churchill': 1.0148408125744743,\n",
       " 'New knowledge is the most valuable commodity on earth. The more truth we have to work with, the richer we become.- Kurt Vonnegut': 1.0148408125744743,\n",
       " 'Of all tyrannies, a tyranny exercised for the good of its victims may be the most oppressive. It may be better to live under robber barons than under omnipotent moral busybodies. The robber baron`s cruelty may sometimes sleep, his cupidity may at some point be satiated; but those who torment us for our own good will torment us without end, for they do so with the approval of their own conscience.- C.S. Lewis': 0.7611306094308558,\n",
       " 'Perhaps one of the most important accomplishments of my administration has been minding my own business.- Calvin Coolidge': 1.5222612188617115,\n",
       " 'Regarding the debate about faith and works: It\\x92s like asking which blade in a pair of scissors is most important.- C.S. Lewis': 3.044522437723423,\n",
       " 'Talent alone won`t make you a success. Neither will being in the right place at the right time, unless you are ready. The most important question is: `Are you ready?`- Johnny Carson': 1.0148408125744743,\n",
       " 'That men do not learn very much from the lessons of history is the most important of all the lessons of history.- Aldous Huxley': 1.0148408125744743,\n",
       " 'That the innocent, though they may have some connexion or dependency upon the guilty (which, perhaps, they themselves cannot help), should not, upon that account, suffer or be punished for the guilty, is one of the plainest and most obvious rules of justice.- Adam Smith': 0.7611306094308558,\n",
       " 'The ACLU is always yakking about the Constitution, and most of us are getting mighty tired of it. I mean, if the Constitution is so great, how come it was amended so many times? Huh?- Dave Barry': 1.0148408125744743,\n",
       " 'The best and most beautiful things in the world cannot be seen or even touched. They must be felt with the heart.- Helen Keller': 1.0148408125744743,\n",
       " 'The function of RAM is to give us guys a way of deciding whose computer has the biggest, studliest, most tumescent MEMORY. This is important, because with today`s complex software, the more memory a computer has, the faster it can produce error messages. So the bottom line is, if you`re a guy, you cannot have enough RAM.- Dave Barry': 0.6089044875446846,\n",
       " 'The most exciting phrase to hear in science, the one that heralds new discoveries, is not `Eureka!` (I found it!) but `That`s funny...`- Isaac Asimov': 1.5222612188617115,\n",
       " 'The most incomprehensible thing about the world is that it is at all comprehensible.- Albert Einstein': 1.5222612188617115,\n",
       " 'This is the second most exciting indoor sport, and the other one shouldn`t have spectators.- Dick Vertleib': 1.5222612188617115,\n",
       " 'To be prepared for war is one of the most effectual means of preserving peace.- George Washington': 1.5222612188617115,\n",
       " 'To have the reputation of possessing the most perfect social tact, talk to every woman as if you loved her, and to every man as if he bored you.- Oscar Wilde': 1.0148408125744743,\n",
       " 'To know what is impenetrable to us really exists, manifesting itself as the highest wisdom and the most radiant beauty...this knowledge, this feeling is at the center of true religiousness.- Albert Einstein': 1.0148408125744743,\n",
       " 'We all want progress, but if you`re on the wrong road, progress means doing an about-turn and walking back to the right road; in that case, the man who turns back soonest is the most progressive.- C.S. Lewis': 0.7611306094308558,\n",
       " 'What is the most important for democracy is not that great fortunes should not exist, but that great fortunes should not remain in the same hands. In that way there are rich men, but they do not form a class.- Alexis de Tocqueville': 0.7611306094308558,\n",
       " 'When we got into office, the thing that surprised me the most was that things were as bad as we`d been saying they were.- John F. Kennedy': 1.5222612188617115,\n",
       " 'Why, you can take the most gallant sailor, the most intrepid airman or the most audacious soldier, put them at a table together - what do you get? The sum of their fears.- Winston Churchill': 2.2833918282925674,\n",
       " 'You know, there`s a million fine looking women in the world, dude. But they don`t all bring you lasagna at work. Most of `em just cheat on you.- Kevin Smith': 1.0148408125744743}"
      ]
     },
     "execution_count": 27,
     "metadata": {},
     "output_type": "execute_result"
    }
   ],
   "source": [
    "#3.f\n",
    "def word_search(w):\n",
    "    dictionary = {}\n",
    "    for k in rp_dict[w]:\n",
    "        dictionary[k] = cal_TF_IDF(w,k)\n",
    "    return dictionary\n",
    "word_search('most')"
   ]
  },
  {
   "cell_type": "code",
   "execution_count": 30,
   "metadata": {
    "collapsed": false,
    "deletable": true,
    "editable": true
   },
   "outputs": [],
   "source": [
    "#3.g\n",
    "words = []\n",
    "from collections import Counter\n",
    "def search_mul_wor(w=list()):\n",
    "    x ={}\n",
    "    for i in range(len(w)):\n",
    "        x = dict(Counter(word_search(w[i]))+Counter(x))\n",
    "    return x"
   ]
  },
  {
   "cell_type": "code",
   "execution_count": 31,
   "metadata": {
    "collapsed": false,
    "deletable": true,
    "editable": true
   },
   "outputs": [
    {
     "data": {
      "text/plain": [
       "{'An actor is at most a poet and at least an entertainer.- Marlon Brando': 6.236846153472451,\n",
       " 'Never confuse the size of your paycheck with the size of your talent.- Marlon Brando': 2.84348767816991,\n",
       " 'To grasp the full significance of life is the actor`s duty, to interpret it is his problem and to express it his dedication.- Marlon Brando': 1.8956584521132733}"
      ]
     },
     "execution_count": 31,
     "metadata": {},
     "output_type": "execute_result"
    }
   ],
   "source": [
    "w = ['entertainer','marlon']\n",
    "search_mul_wor(w)"
   ]
  }
 ],
 "metadata": {
  "kernelspec": {
   "display_name": "Python 2",
   "language": "python",
   "name": "python2"
  },
  "language_info": {
   "codemirror_mode": {
    "name": "ipython",
    "version": 2
   },
   "file_extension": ".py",
   "mimetype": "text/x-python",
   "name": "python",
   "nbconvert_exporter": "python",
   "pygments_lexer": "ipython2",
   "version": "2.7.13"
  }
 },
 "nbformat": 4,
 "nbformat_minor": 2
}
